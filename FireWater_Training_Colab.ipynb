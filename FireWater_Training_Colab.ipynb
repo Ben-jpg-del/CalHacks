{
 "cells": [
  {
   "cell_type": "markdown",
   "metadata": {},
   "source": [
    "# Fire & Water RL Training on Google Colab\n",
    "\n",
    "This notebook allows you to train reinforcement learning agents for the Fire & Water cooperative game on Google Colab with GPU acceleration.\n",
    "\n",
    "## Setup Instructions:\n",
    "1. **Enable GPU**: Runtime → Change runtime type → Hardware accelerator → GPU\n",
    "2. **Upload existing checkpoints** (optional - if resuming training)\n",
    "3. **Run all cells in order**\n",
    "4. **Training will save checkpoints** to `checkpoints/` directory\n",
    "5. **Download checkpoints** when complete for local visualization\n",
    "\n",
    "---"
   ]
  },
  {
   "cell_type": "markdown",
   "metadata": {},
   "source": [
    "## 1. Clone Repository and Install Dependencies"
   ]
  },
  {
   "cell_type": "code",
   "execution_count": null,
   "metadata": {},
   "outputs": [],
   "source": [
    "# Clone the repository\n",
    "!git clone https://github.com/Ben-jpg-del/CalHacks.git\n",
    "%cd CalHacks"
   ]
  },
  {
   "cell_type": "code",
   "execution_count": null,
   "metadata": {},
   "outputs": [],
   "source": [
    "# Install required packages\n",
    "!pip install torch numpy pygame wandb -q\n",
    "\n",
    "print(\"✅ Dependencies installed!\")"
   ]
  },
  {
   "cell_type": "markdown",
   "metadata": {},
   "source": [
    "## 2. Verify GPU Availability"
   ]
  },
  {
   "cell_type": "code",
   "execution_count": null,
   "metadata": {},
   "outputs": [],
   "source": [
    "import torch\n",
    "\n",
    "# Check GPU\n",
    "print(\"PyTorch version:\", torch.__version__)\n",
    "print(\"CUDA available:\", torch.cuda.is_available())\n",
    "\n",
    "if torch.cuda.is_available():\n",
    "    print(\"GPU Device:\", torch.cuda.get_device_name(0))\n",
    "    print(\"GPU Memory:\", torch.cuda.get_device_properties(0).total_memory / 1e9, \"GB\")\n",
    "else:\n",
    "    print(\"⚠️ WARNING: No GPU detected. Training will be slower on CPU.\")\n",
    "    print(\"Enable GPU: Runtime → Change runtime type → Hardware accelerator → GPU\")"
   ]
  },
  {
   "cell_type": "markdown",
   "metadata": {},
   "source": [
    "## 3. Upload Existing Checkpoints (OPTIONAL - For Resuming Training)\n",
    "\n",
    "**Skip this cell if starting fresh training.**\n",
    "\n",
    "If you have existing checkpoints from a previous training session, upload them here to continue training.\n",
    "\n",
    "### Option A: Upload checkpoints.zip"
   ]
  },
  {
   "cell_type": "code",
   "execution_count": null,
   "metadata": {},
   "outputs": [],
   "source": [
    "from google.colab import files\n",
    "import os\n",
    "\n",
    "# Upload checkpoints.zip file\n",
    "print(\"📤 Upload your checkpoints.zip file:\")\n",
    "print(\"(If starting fresh training, skip this cell)\\n\")\n",
    "\n",
    "uploaded = files.upload()\n",
    "\n",
    "if 'checkpoints.zip' in uploaded:\n",
    "    # Extract checkpoints\n",
    "    !unzip -q checkpoints.zip\n",
    "    print(\"✅ Checkpoints extracted!\")\n",
    "    \n",
    "    # List uploaded checkpoints\n",
    "    if os.path.exists('checkpoints'):\n",
    "        checkpoints = sorted([f for f in os.listdir('checkpoints') if f.endswith('.pth')])\n",
    "        print(f\"\\nFound {len(checkpoints)} checkpoint files\")\n",
    "        \n",
    "        # Find episodes\n",
    "        episodes = set()\n",
    "        for cp in checkpoints:\n",
    "            if 'ep' in cp:\n",
    "                ep_num = cp.split('ep')[1].split('.')[0]\n",
    "                episodes.add(int(ep_num))\n",
    "        \n",
    "        if episodes:\n",
    "            latest_ep = max(episodes)\n",
    "            print(f\"\\n📊 Available episodes: {sorted(episodes)}\")\n",
    "            print(f\"💡 Latest checkpoint: Episode {latest_ep}\")\n",
    "            print(f\"\\n⚙️ Set RESUME_EPISODE = {latest_ep} in the configuration cell below\")\n",
    "else:\n",
    "    print(\"No checkpoints uploaded. Starting fresh training.\")"
   ]
  },
  {
   "cell_type": "markdown",
   "metadata": {},
   "source": [
    "### Option B: Upload Individual Checkpoint Files"
   ]
  },
  {
   "cell_type": "code",
   "execution_count": null,
   "metadata": {},
   "outputs": [],
   "source": [
    "# Alternative: Upload specific checkpoint files\n",
    "print(\"📤 Upload checkpoint files (fire and water .pth files):\")\n",
    "print(\"Select BOTH fire_staged_dqn_epXXX.pth AND water_staged_dqn_epXXX.pth\\n\")\n",
    "\n",
    "uploaded = files.upload()\n",
    "\n",
    "if uploaded:\n",
    "    # Create checkpoints directory\n",
    "    !mkdir -p checkpoints\n",
    "    \n",
    "    # Move uploaded files to checkpoints directory\n",
    "    for filename in uploaded.keys():\n",
    "        !mv \"{filename}\" checkpoints/\n",
    "        print(f\"✅ Moved {filename} to checkpoints/\")\n",
    "    \n",
    "    # Find episode number\n",
    "    for filename in uploaded.keys():\n",
    "        if 'ep' in filename:\n",
    "            ep_num = filename.split('ep')[1].split('.')[0]\n",
    "            print(f\"\\n💡 Detected episode {ep_num}\")\n",
    "            print(f\"⚙️ Set RESUME_EPISODE = {ep_num} in the configuration cell below\")\n",
    "            break"
   ]
  },
  {
   "cell_type": "markdown",
   "metadata": {},
   "source": [
    "## 4. Test Environment Loading"
   ]
  },
  {
   "cell_type": "code",
   "execution_count": null,
   "metadata": {},
   "outputs": [],
   "source": [
    "from game_environment import FireWaterEnv\n",
    "from map_config import LevelLibrary\n",
    "from map_1 import LevelLibrary as Map1Library\n",
    "\n",
    "# Test tutorial map\n",
    "tutorial_level = LevelLibrary.get_tutorial_level()\n",
    "print(f\"Tutorial Map: {tutorial_level.name}\")\n",
    "print(f\"  Dimensions: {tutorial_level.width}x{tutorial_level.height}\")\n",
    "print(f\"  Platforms: {len(tutorial_level.base_solids)}\")\n",
    "\n",
    "# Test custom tower map\n",
    "tower_level = Map1Library.get_tower_level()\n",
    "print(f\"\\nCustom Map: {tower_level.name}\")\n",
    "print(f\"  Dimensions: {tower_level.width}x{tower_level.height}\")\n",
    "print(f\"  Platforms: {len(tower_level.base_solids)}\")\n",
    "print(f\"  Hazards: {list(tower_level.get_hazards().keys())}\")\n",
    "\n",
    "# Create environment\n",
    "env = FireWaterEnv(level=tower_level)\n",
    "fire_obs, water_obs = env.reset()\n",
    "\n",
    "print(f\"\\n✅ Environment loaded successfully!\")\n",
    "print(f\"Observation shape: {fire_obs.shape}\")"
   ]
  },
  {
   "cell_type": "markdown",
   "metadata": {},
   "source": [
    "## 5. Configure Training Parameters\n",
    "\n",
    "**IMPORTANT**: If you uploaded checkpoints, set `RESUME_EPISODE` to the episode number you want to continue from."
   ]
  },
  {
   "cell_type": "code",
   "execution_count": null,
   "metadata": {},
   "outputs": [],
   "source": [
    "# ============================================\n",
    "# TRAINING CONFIGURATION\n",
    "# ============================================\n",
    "\n",
    "# Map selection\n",
    "MAP_NAME = \"tower\"  # Options: \"tutorial\" or \"tower\"\n",
    "\n",
    "# Training parameters\n",
    "NUM_EPISODES = 2000      # Total episodes to train (will continue from RESUME_EPISODE)\n",
    "MAX_STEPS = 3000         # Max steps per episode\n",
    "LEARNING_RATE = 3e-4     # Learning rate for optimizer\n",
    "BATCH_SIZE = 64          # Batch size for training\n",
    "\n",
    "# Logging\n",
    "LOG_FREQUENCY = 10       # Log every N episodes\n",
    "SAVE_FREQUENCY = 100     # Save checkpoint every N episodes\n",
    "\n",
    "# Weights & Biases (optional)\n",
    "USE_WANDB = False        # Set to True to enable W&B logging\n",
    "WANDB_PROJECT = \"firewater-colab\"  # W&B project name\n",
    "\n",
    "# ======================================\n",
    "# RESUME FROM CHECKPOINT\n",
    "# ======================================\n",
    "# Set this to continue training from existing checkpoints\n",
    "# Example: If you uploaded episode 1500 checkpoints, set RESUME_EPISODE = 1500\n",
    "\n",
    "RESUME_EPISODE = None    # Set to episode number (e.g., 1500) to resume\n",
    "\n",
    "# ======================================\n",
    "\n",
    "print(\"Training Configuration:\")\n",
    "print(f\"  Map: {MAP_NAME}\")\n",
    "print(f\"  Total Episodes: {NUM_EPISODES}\")\n",
    "if RESUME_EPISODE:\n",
    "    print(f\"  ⚠️  RESUMING from Episode {RESUME_EPISODE}\")\n",
    "    print(f\"  Will train episodes {RESUME_EPISODE} → {NUM_EPISODES}\")\n",
    "else:\n",
    "    print(f\"  Starting fresh from Episode 0\")\n",
    "print(f\"  Max Steps: {MAX_STEPS}\")\n",
    "print(f\"  Learning Rate: {LEARNING_RATE}\")\n",
    "print(f\"  Batch Size: {BATCH_SIZE}\")\n",
    "print(f\"  W&B Logging: {USE_WANDB}\")"
   ]
  },
  {
   "cell_type": "markdown",
   "metadata": {},
   "source": [
    "## 6. Verify Checkpoints (If Resuming)"
   ]
  },
  {
   "cell_type": "code",
   "execution_count": null,
   "metadata": {},
   "outputs": [],
   "source": [
    "import os\n",
    "\n",
    "if RESUME_EPISODE is not None:\n",
    "    fire_checkpoint = f'checkpoints/fire_staged_dqn_ep{RESUME_EPISODE}.pth'\n",
    "    water_checkpoint = f'checkpoints/water_staged_dqn_ep{RESUME_EPISODE}.pth'\n",
    "    \n",
    "    fire_exists = os.path.exists(fire_checkpoint)\n",
    "    water_exists = os.path.exists(water_checkpoint)\n",
    "    \n",
    "    print(f\"Checking for episode {RESUME_EPISODE} checkpoints...\")\n",
    "    print(f\"  Fire checkpoint: {'✅ Found' if fire_exists else '❌ NOT FOUND'}\")\n",
    "    print(f\"  Water checkpoint: {'✅ Found' if water_exists else '❌ NOT FOUND'}\")\n",
    "    \n",
    "    if fire_exists and water_exists:\n",
    "        print(f\"\\n✅ Ready to resume from episode {RESUME_EPISODE}!\")\n",
    "    else:\n",
    "        print(f\"\\n❌ ERROR: Checkpoint files not found!\")\n",
    "        print(f\"Upload the checkpoint files or set RESUME_EPISODE = None\")\n",
    "        \n",
    "        # Show available checkpoints\n",
    "        if os.path.exists('checkpoints'):\n",
    "            available = sorted([f for f in os.listdir('checkpoints') if 'ep' in f and f.endswith('.pth')])\n",
    "            if available:\n",
    "                print(f\"\\nAvailable checkpoints:\")\n",
    "                for cp in available[:10]:  # Show first 10\n",
    "                    print(f\"  - {cp}\")\n",
    "else:\n",
    "    print(\"Starting fresh training (no resume checkpoint specified)\")"
   ]
  },
  {
   "cell_type": "markdown",
   "metadata": {},
   "source": [
    "## 7. Setup Weights & Biases (Optional)\n",
    "\n",
    "If you want to track your training with W&B, run this cell and login:"
   ]
  },
  {
   "cell_type": "code",
   "execution_count": null,
   "metadata": {},
   "outputs": [],
   "source": [
    "if USE_WANDB:\n",
    "    import wandb\n",
    "    wandb.login()\n",
    "    print(\"✅ Logged in to Weights & Biases\")\n",
    "else:\n",
    "    print(\"W&B logging disabled. Set USE_WANDB=True to enable.\")"
   ]
  },
  {
   "cell_type": "markdown",
   "metadata": {},
   "source": [
    "## 8. Train Agents\n",
    "\n",
    "This will train both fire and water agents using DQN with staged milestone rewards.\n",
    "\n",
    "**Note**: \n",
    "- If `RESUME_EPISODE` is set, training will continue from that checkpoint\n",
    "- Training can take several hours depending on NUM_EPISODES\n",
    "- Monitor the output for progress"
   ]
  },
  {
   "cell_type": "code",
   "execution_count": null,
   "metadata": {},
   "outputs": [],
   "source": [
    "# Import training function\n",
    "from train_stage_milestone_dqn import train_dqn_with_staged_rewards\n",
    "\n",
    "# Start training\n",
    "print(\"Starting training...\")\n",
    "print(\"=\" * 60)\n",
    "\n",
    "if RESUME_EPISODE:\n",
    "    print(f\"📂 Loading checkpoints from episode {RESUME_EPISODE}\")\n",
    "    print(f\"🔄 Will continue training to episode {NUM_EPISODES}\")\n",
    "else:\n",
    "    print(f\"🆕 Starting fresh training\")\n",
    "\n",
    "print(\"=\" * 60 + \"\\n\")\n",
    "\n",
    "train_dqn_with_staged_rewards(\n",
    "    use_wandb=USE_WANDB,\n",
    "    wandb_project=WANDB_PROJECT,\n",
    "    resume_episode=RESUME_EPISODE,\n",
    "    map_name=MAP_NAME\n",
    ")\n",
    "\n",
    "print(\"\\n✅ Training complete!\")"
   ]
  },
  {
   "cell_type": "markdown",
   "metadata": {},
   "source": [
    "## 9. List Available Checkpoints"
   ]
  },
  {
   "cell_type": "code",
   "execution_count": null,
   "metadata": {},
   "outputs": [],
   "source": [
    "import os\n",
    "\n",
    "# List all checkpoint files\n",
    "if os.path.exists('checkpoints'):\n",
    "    checkpoints = sorted([f for f in os.listdir('checkpoints') if f.endswith('.pth')])\n",
    "    \n",
    "    print(f\"Found {len(checkpoints)} checkpoint files:\\n\")\n",
    "    \n",
    "    # Group by episode\n",
    "    episodes = set()\n",
    "    for cp in checkpoints:\n",
    "        if 'ep' in cp:\n",
    "            ep_num = cp.split('ep')[1].split('.')[0]\n",
    "            episodes.add(int(ep_num))\n",
    "    \n",
    "    for ep in sorted(episodes):\n",
    "        fire_exists = os.path.exists(f'checkpoints/fire_staged_dqn_ep{ep}.pth')\n",
    "        water_exists = os.path.exists(f'checkpoints/water_staged_dqn_ep{ep}.pth')\n",
    "        status = \"✅\" if (fire_exists and water_exists) else \"⚠️\"\n",
    "        print(f\"{status} Episode {ep}: Fire={fire_exists}, Water={water_exists}\")\n",
    "    \n",
    "    # Show final checkpoints\n",
    "    if os.path.exists('checkpoints/fire_final.pth'):\n",
    "        print(\"\\n✅ Final checkpoint: fire_final.pth, water_final.pth\")\n",
    "else:\n",
    "    print(\"No checkpoints directory found. Train agents first.\")"
   ]
  },
  {
   "cell_type": "markdown",
   "metadata": {},
   "source": [
    "## 10. Download Checkpoints\n",
    "\n",
    "Download trained models to use locally or to resume training in another session:"
   ]
  },
  {
   "cell_type": "code",
   "execution_count": null,
   "metadata": {},
   "outputs": [],
   "source": [
    "# Zip all checkpoints for easy download\n",
    "!zip -r checkpoints.zip checkpoints/\n",
    "\n",
    "print(\"✅ Checkpoints zipped!\")\n",
    "print(\"\\nDownload 'checkpoints.zip' from the Files panel on the left.\")\n",
    "print(\"\\n💡 TIP: Save this file to continue training in a future Colab session!\")\n",
    "\n",
    "# Alternative: Download specific checkpoint\n",
    "from google.colab import files\n",
    "\n",
    "# Uncomment to download final checkpoints directly:\n",
    "# files.download('checkpoints/fire_final.pth')\n",
    "# files.download('checkpoints/water_final.pth')\n",
    "\n",
    "# Or download the complete zip:\n",
    "# files.download('checkpoints.zip')"
   ]
  },
  {
   "cell_type": "markdown",
   "metadata": {},
   "source": [
    "## 11. Evaluate Trained Agents\n",
    "\n",
    "Test your agents' performance (no visualization on Colab):"
   ]
  },
  {
   "cell_type": "code",
   "execution_count": null,
   "metadata": {},
   "outputs": [],
   "source": [
    "from example_dqn import DQNAgent\n",
    "from game_environment import FireWaterEnv\n",
    "import numpy as np\n",
    "\n",
    "# Specify checkpoint to evaluate\n",
    "EVAL_EPISODE = 1500  # Change this to the episode you want to evaluate\n",
    "\n",
    "# Load level\n",
    "if MAP_NAME == \"tower\":\n",
    "    level = Map1Library.get_tower_level()\n",
    "else:\n",
    "    level = LevelLibrary.get_tutorial_level()\n",
    "\n",
    "# Create environment\n",
    "env = FireWaterEnv(level=level)\n",
    "\n",
    "# Create and load agents\n",
    "device = 'cuda' if torch.cuda.is_available() else 'cpu'\n",
    "fire_agent = DQNAgent(state_dim=52, action_dim=6, device=device)\n",
    "water_agent = DQNAgent(state_dim=52, action_dim=6, device=device)\n",
    "\n",
    "fire_agent.load(f'checkpoints/fire_staged_dqn_ep{EVAL_EPISODE}.pth')\n",
    "water_agent.load(f'checkpoints/water_staged_dqn_ep{EVAL_EPISODE}.pth')\n",
    "\n",
    "# Set to evaluation mode (no exploration)\n",
    "fire_agent.epsilon = 0.0\n",
    "water_agent.epsilon = 0.0\n",
    "\n",
    "# Run evaluation episodes\n",
    "num_eval_episodes = 100\n",
    "successes = 0\n",
    "total_rewards = []\n",
    "episode_lengths = []\n",
    "\n",
    "print(f\"Evaluating episode {EVAL_EPISODE} agents over {num_eval_episodes} episodes...\\n\")\n",
    "\n",
    "for ep in range(num_eval_episodes):\n",
    "    fire_obs, water_obs = env.reset()\n",
    "    done = False\n",
    "    episode_reward = 0\n",
    "    steps = 0\n",
    "    \n",
    "    while not done:\n",
    "        # Get actions (greedy)\n",
    "        fire_action = fire_agent.select_action(fire_obs, training=False)\n",
    "        water_action = water_agent.select_action(water_obs, training=False)\n",
    "        \n",
    "        # Step\n",
    "        (fire_obs, water_obs), (fire_reward, water_reward), (fire_done, water_done), info = env.step(\n",
    "            fire_action, water_action\n",
    "        )\n",
    "        \n",
    "        episode_reward += fire_reward + water_reward\n",
    "        steps += 1\n",
    "        done = fire_done or water_done\n",
    "    \n",
    "    if info.get('both_won', False):\n",
    "        successes += 1\n",
    "    \n",
    "    total_rewards.append(episode_reward)\n",
    "    episode_lengths.append(steps)\n",
    "    \n",
    "    if (ep + 1) % 10 == 0:\n",
    "        print(f\"Episode {ep+1}/{num_eval_episodes}: Success rate = {successes/(ep+1)*100:.1f}%\")\n",
    "\n",
    "# Print results\n",
    "print(\"\\n\" + \"=\" * 60)\n",
    "print(\"EVALUATION RESULTS\")\n",
    "print(\"=\" * 60)\n",
    "print(f\"Checkpoint: Episode {EVAL_EPISODE}\")\n",
    "print(f\"Map: {level.name}\")\n",
    "print(f\"Episodes: {num_eval_episodes}\")\n",
    "print(f\"Success Rate: {successes/num_eval_episodes*100:.1f}% ({successes}/{num_eval_episodes})\")\n",
    "print(f\"Average Reward: {np.mean(total_rewards):.2f} ± {np.std(total_rewards):.2f}\")\n",
    "print(f\"Average Length: {np.mean(episode_lengths):.1f} ± {np.std(episode_lengths):.1f} steps\")\n",
    "print(\"=\" * 60)"
   ]
  },
  {
   "cell_type": "markdown",
   "metadata": {},
   "source": [
    "## 12. Visualize Locally (Instructions)\n",
    "\n",
    "To visualize your trained agents:\n",
    "\n",
    "1. **Download checkpoints** from Colab (see cell above)\n",
    "2. **Extract** `checkpoints.zip` to your local repository\n",
    "3. **Run visualization** locally:\n",
    "\n",
    "```bash\n",
    "# On your local machine:\n",
    "python visualize.py trained checkpoints/fire_staged_dqn_ep1500.pth checkpoints/water_staged_dqn_ep1500.pth --map tower\n",
    "```\n",
    "\n",
    "**Note**: Pygame doesn't work on Colab, so visualization must be done locally."
   ]
  },
  {
   "cell_type": "markdown",
   "metadata": {},
   "source": [
    "## 13. Resume Training Workflow\n",
    "\n",
    "If you need to continue training across multiple Colab sessions:\n",
    "\n",
    "### Session 1:\n",
    "1. Train for X episodes\n",
    "2. Download `checkpoints.zip`\n",
    "\n",
    "### Session 2:\n",
    "1. Upload `checkpoints.zip` (Cell 3)\n",
    "2. Set `RESUME_EPISODE` to last saved episode (Cell 5)\n",
    "3. Set `NUM_EPISODES` to desired end episode\n",
    "4. Run training (Cell 8)\n",
    "5. Download updated `checkpoints.zip`\n",
    "\n",
    "### Example:\n",
    "```python\n",
    "# Session 1\n",
    "NUM_EPISODES = 2000\n",
    "RESUME_EPISODE = None\n",
    "# Training: Episode 0 → 2000\n",
    "\n",
    "# Session 2 (after uploading checkpoints)\n",
    "NUM_EPISODES = 4000\n",
    "RESUME_EPISODE = 2000\n",
    "# Training: Episode 2000 → 4000\n",
    "\n",
    "# Session 3 (after uploading checkpoints)\n",
    "NUM_EPISODES = 6000\n",
    "RESUME_EPISODE = 4000\n",
    "# Training: Episode 4000 → 6000\n",
    "```"
   ]
  }
 ],
 "metadata": {
  "kernelspec": {
   "display_name": "Python 3",
   "language": "python",
   "name": "python3"
  },
  "language_info": {
   "codemirror_mode": {
    "name": "ipython",
    "version": 3
   },
   "file_extension": ".py",
   "mimetype": "text/x-python",
   "name": "python",
   "nbconvert_exporter": "python",
   "pygments_lexer": "ipython3",
   "version": "3.8.0"
  },
  "accelerator": "GPU"
 },
 "nbformat": 4,
 "nbformat_minor": 4
}
